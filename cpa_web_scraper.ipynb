{
 "cells": [
  {
   "cell_type": "markdown",
   "id": "af03edaf",
   "metadata": {},
   "source": [
    "Goals\n",
    "1. Function that takes url as arguement\n",
    "2. Use urllib to get response from url, ignoring ssl\n",
    "3. Use beautiful soup to read content via html parser\n",
    "4. Next loop through elements of html using regex to find string that matches for City, StateAbrrev ZipCode\n",
    "5. Then retrieve the parent of that tag and match for full street address using regex\n",
    "6. Once found then append to list with url preceding"
   ]
  },
  {
   "cell_type": "code",
   "execution_count": 1,
   "id": "71a3d1c9",
   "metadata": {},
   "outputs": [],
   "source": [
    "import requests \n",
    "from bs4 import BeautifulSoup as bs\n",
    "import pandas as pd\n",
    "import re\n",
    "import urllib\n",
    "import ssl"
   ]
  },
  {
   "cell_type": "code",
   "execution_count": 3,
   "id": "095ddb4b",
   "metadata": {},
   "outputs": [],
   "source": [
    "cpas = pd.read_excel('./US_Firms_Market_Analysis_2023.xlsx',sheet_name='DATA')"
   ]
  },
  {
   "cell_type": "code",
   "execution_count": 5,
   "id": "27d098cd",
   "metadata": {},
   "outputs": [],
   "source": [
    "cpas.dropna(subset=['URL'], inplace=True)"
   ]
  },
  {
   "cell_type": "markdown",
   "id": "6f2e2ad6",
   "metadata": {},
   "source": [
    "## Script to grab url from dataset"
   ]
  },
  {
   "cell_type": "code",
   "execution_count": 6,
   "id": "f3b97f18",
   "metadata": {},
   "outputs": [],
   "source": [
    "urls=[]\n",
    "for url in cpas['URL'].unique():\n",
    "    if len(str(url)) == 0:\n",
    "        pass\n",
    "    else:\n",
    "        match = re.search(r'((?:https?://)?[^\\s()]+\\.com)', url)\n",
    "        if match:\n",
    "            urls.append(match.group(1))"
   ]
  },
  {
   "cell_type": "markdown",
   "id": "68a46c73",
   "metadata": {},
   "source": [
    "## Adding https:// if it doesn't already exist and /contact"
   ]
  },
  {
   "cell_type": "code",
   "execution_count": 7,
   "id": "30636608",
   "metadata": {},
   "outputs": [],
   "source": [
    "index = 0\n",
    "for url in urls:\n",
    "    if 'https://' in url or 'http://' in url:\n",
    "        index = urls.index(url)\n",
    "        urls.remove(url)\n",
    "        url = url + '/contact'\n",
    "        urls.insert(index, url)\n",
    "    else:\n",
    "        index = urls.index(url)\n",
    "        urls.remove(url)\n",
    "        url = 'https://' + url + '/contact/'\n",
    "        urls.insert(index, url)\n",
    "        "
   ]
  },
  {
   "cell_type": "markdown",
   "id": "82c44778",
   "metadata": {},
   "source": [
    "### Using old regex this matches city, stateAbbr ZipCode"
   ]
  },
  {
   "cell_type": "markdown",
   "id": "9b96e503",
   "metadata": {},
   "source": [
    "addresses=[]\n",
    "for url in urls[2:5]:\n",
    "    response = requests.get(url, verify=False)\n",
    "    soup = bs(response.content, 'html.parser')\n",
    "    \n",
    "    \n",
    "    pattern = re.compile('[A-z]+,\\s[A-Z]{2}\\s\\d{5}(?!\\d)')\n",
    "    \n",
    "\n",
    "    for tag in soup.find_all(string=re.compile(pattern)):\n",
    "        print(tag)\n",
    "        print('\\n'*2)\n",
    "        addresses.append([url, tag.parent.get_text().replace('\\n', ' ').replace(\"\\xa0\", ' ')])\n",
    "\n",
    "print(addresses)"
   ]
  },
  {
   "cell_type": "markdown",
   "id": "8cca6d9d",
   "metadata": {},
   "source": [
    "### Loop through all urls\n",
    "1. Search for string that matches the pattern of City, StateAbbrev ZipCode\n",
    "2. then search the parent of that tag for the full street address\n",
    "    - also replaces a few errors like \\n, \\xa0\n",
    "3. verifies if a match was found and if so then appends the url and street address to a list called addresses\n",
    "4. otherwises passes then reruns loop"
   ]
  },
  {
   "cell_type": "code",
   "execution_count": 355,
   "id": "820ead9a",
   "metadata": {},
   "outputs": [
    {
     "name": "stdout",
     "output_type": "stream",
     "text": [
      "\n",
      "Richardson, TX 75080 2425 N Central Expressway, Suite 200 Richardson, TX 75080\n",
      "\n",
      "Boston, MA 02110 160 Federal Street, 16th Floor Boston, MA 02110\n",
      "\n",
      "Waltham, MA 02452 465 Waverly Oaks Road, Waltham, MA 02452\n",
      "\n",
      "Westborough, MA 01581 50 Washington Street Westborough, MA 01581\n",
      " Floor, New York, NY 10019 1740 Broadway 15th Floor, New York, NY 10019\n",
      "New York, NY 10019 1740 Broadway 15th FloorNew York, NY 10019\n",
      "Beverly Hills, CA 90211 8383 Wilshire Blvd Ste 800Beverly Hills, CA 90211\n",
      "\n",
      "New York, NY 10019 1740 Broadway 15th Floor New York, NY 10019\n",
      "\n",
      "Campbell, CA 95008 1901 S. Bascom Ave Suite 105 Campbell, CA 95008\n",
      "© 2023 Abbott, Stringham & Lynch - Silicon Valley CPA Firm - 1901 South Bascom Avenue, Suite 105, Campbell, CA 95008  2023 Abbott, Stringham & Lynch - Silicon Valley CPA Firm - 1901 South Bascom Avenue, Suite 105, Campbell, CA 95008\n",
      "\n",
      "Edina, MN 55436 5201 Eden Avenue, Suite 250 Edina, MN 55436\n",
      "\n",
      "Mankato, MN 56001 100 Warren Street, Suite 600 Mankato, MN 56001\n",
      "\n",
      "Scottsdale, AZ 85260 14500 N Northsight Blvd, Ste 233 Scottsdale, AZ 85260\n",
      "\n",
      "Edina, MN 55436 5201 Eden Avenue, Suite 250 Edina, MN 55436\n",
      "\n",
      "Mankato, MN 56001 100 Warren Street, Suite 600 Mankato, MN 56001\n",
      "\n",
      "Scottsdale, AZ 85260 14500 N Northsight Blvd, Ste 233 Scottsdale, AZ 85260\n",
      "Coral Gables, FL 33134 255 Aragon Avenue, 2nd FloorCoral Gables, FL 33134\n",
      "Aventura, FL 33180 20803 Biscayne Blvd.,Suite 310Aventura, FL 33180\n",
      "Coral Gables, FL 33134 255 Aragon Avenue, 2nd FloorCoral Gables, FL 33134\n",
      "Boca Raton, FL 33432 327 Plaza Real, Suite 235Boca Raton, FL 33432\n",
      "Aventura, FL 33180 20803 Biscayne Blvd., Suite 310Aventura, FL 33180\n",
      "\n",
      "Lancaster, PA 17602-2289 454 New Holland Avenue Suite 200 Lancaster, PA 17602\n",
      "https://www.adelfiacpas.com/contact 404\n",
      "http://www.adelsoncpa.com/contact 404\n",
      "\n",
      "New York, NY 10019 244 W 54th Street 9th Floor New York, NY 10019\n",
      "\n",
      "Olney, MD 20832 3311 Olney Sandy Spring Rd Olney, MD 20832\n",
      "\n",
      "Jericho, NY 11753 390 N Broadway Suite 120 Jericho, NY 11753\n",
      "\n",
      "White Plains, NY 10601 200 Mamaroneck Ave Suite 502 White Plains, NY 10601\n",
      "\n",
      "Marina Del Rey, CA 90292 4640 Admiralty Way Suite 417 Marina Del Rey, CA 90292\n",
      "Redding, CA 96001 1726 Court StreetRedding, CA 96001\n",
      "Mt. Shasta, CA 96067 205 N. Mt. Shasta Blvd. STE #300Mt. Shasta, CA 96067\n",
      "Redding, CA 96001 1726 Court StreetRedding, CA 96001\n",
      "Mt. Shasta, CA 96067 205 N. Mt. Shasta Blvd. Ste #300 Mt. Shasta, CA 96067\n",
      "http://www.adkf.com/contact 404\n",
      "https://www.aka-cpa.com/contact/ 404\n",
      "3rd Floor Portland, ME 04101 130 Middle Street,3rd Floor Portland, ME 04101\n",
      "116 Company St, Wetumpka, AL 36092 116 Company St, Wetumpka, AL 36092\n",
      "1922 Professional Circle, Suite 205, Auburn, AL 36830 1922 Professional Circle, Suite 205, Auburn, AL 36830\n",
      "\n",
      "Austin, TX 78759 10900 Research Blvd Ste 160C PMB 3057 Austin, TX 78759\n",
      "https://www.aghlc.com/contact/ 404\n",
      "http://www.almichcpa.com/contact 308\n",
      "\n",
      "Grand Island, NE 68802 1203 W. 2nd St. P.O. Box 1407 Grand Island, NE 68802\n",
      "https://ampeisch.com/contact/ 404\n",
      "\n",
      " Uniondale, NY 1155350 Charles Lindbergh Blvd\n",
      "\n",
      " Boca Raton, FL 334312255 Glades Road, Suite 111E\n",
      "\n",
      " Uniondale, NY 1155350 Charles Lindbergh Blvd\n",
      "\n",
      " Boca Raton, FL 334312255 Glades Road, Suite 111E\n",
      "\n",
      " St. Louis, MO 631012501 800 Market Street, Suite 500\n",
      " Greeley, CO 80634-4813 5801 W. 11th St., Suite 300 (in the Wells Fargo Bank building) Greeley, CO 80634\n",
      "5801 W 11th St, Suite 300, Greeley, CO 80634 5801 W 11th St, Suite 300, Greeley, CO 80634\n",
      "McKinney, TX 75071 4695 W University Dr, #100McKinney, TX 75071\n",
      "McKinney, TX 75071 4695 W University Dr, #100McKinney, TX 75071\n",
      " McKinney, TX 75071 4695 W University Dr, #100 McKinney, TX 75071\n",
      "http://www.anthonydodge.com/contact 403\n",
      "Akron, OH 44313 1540 W. Market St.Akron, OH 44313\n",
      "Canton, OH 44718 4740 Belpar St. NWCanton, OH 44718\n",
      "Chicago, IL 60604 111 W. Jackson Blvd., Suite 1700Chicago, IL 60604\n",
      "Beachwood, OH 44122 25550 Chagrin Boulevard, Suite 401Beachwood, OH 44122\n",
      "http://www.leafsaltzman.com/contact 522\n",
      "\n",
      "San Ramon, CA 94583 12657 Alcosta Blvd #500 San Ramon, CA 94583\n",
      "\n",
      "Austin, TX 78703 1710 W 6th St Austin, TX 78703\n",
      "\n",
      "Bellevue, WA 98004 155 108th Ave NE #820 Bellevue, WA 98004\n",
      "\n",
      "Boise, ID 83702 950 W. Bannock St Suite 350 Boise, ID 83702\n",
      "\n",
      "Chicago, IL 60606 200 S. Wacker Dr Suite 800 Chicago, IL 60606\n",
      "\n",
      "Denver, CO 80202 999 18th St #3300 Denver, CO 80202\n",
      "\n",
      "El Segundo, CA 90245 2101 E El Segundo Blvd   Suite 400 El Segundo, CA 90245\n",
      "\n",
      "Irvine, CA 92612 18101 Von Karman Ave #1400 Irvine, CA 92612\n",
      "\n",
      "Los Angeles, CA 90017 777 S Figueroa St #2600 Los Angeles, CA 90017\n",
      "\n",
      "Naperville, IL 60540 55 S Main St #277 Naperville, IL 60540\n",
      "\n",
      "Philadelphia, PA 19103 1600 Market St #3300 Philadelphia, PA 19103\n",
      "\n",
      "San Francisco, CA 94104 44 Montgomery St #900 San Francisco, CA 94104\n",
      "\n",
      "San Jose, CA 95113 50 W San Fernando St #500 San Jose, CA 95113\n",
      "\n",
      "San Luis Obispo, CA 93401 711 Tank Farm Rd Ste 115 San Luis Obispo, CA 93401\n",
      "\n",
      "Scranton, PA 18503 321 Spruce St Suite 701 Scranton, PA 18503\n",
      "\n",
      "St. Charles, MO 63303 1520 S 5th St #309 St. Charles, MO 63303\n",
      "\n",
      "St. Louis, MO 63141 6 CityPlace Dr #900 St. Louis, MO 63141\n",
      "\n",
      "Los Angeles, CA 90025 11766 Wilshire Blvd 9th Floor Los Angeles, CA 90025\n",
      "\n",
      "Woodland Hills, CA 91367 21650 W Oxnard St Suite 2400 Woodland Hills, CA 91367\n",
      "http://www.armstrongbackus.com/contact 404\n",
      "http://www.cpa-arm.com/contact 404\n",
      "\n",
      "Medford, OR 97504 3512 Excel Dr, Suite 103 Medford, OR 97504\n",
      "\n",
      "Chicago, IL 60602 1 North LaSalle Street, Suite 1675 Chicago, IL 60602\n",
      "https://atchleycpas.com/contact/ 404\n",
      "http://www.austinpa.com/contact 404\n",
      "Fairhope, AL 36532 806 North Section StreetP. O. Box 1469Fairhope, AL 36532251\n",
      "Foley, AL 36535  110 West Section AvenueP. O. Box 190Foley, AL 36535\n",
      "Brewton, AL 36427 115 St. Joseph AvenueP. O. Box 773Brewton, AL 36427251\n",
      "               Lufkin, TX 75901 1307 S. 1st St.               Lufkin, TX 75901\n",
      "               Nacogdoches, TX 75961 420 North St.               Nacogdoches, TX 75961\n",
      "               Livingston, TX 77351 203 N. Houston Ave.               Livingston, TX 77351\n",
      "Lufkin, TX 75901\n",
      "\t\t\t\t\t 1307 S. 1st St. \t\t\t\t\tLufkin, TX 75901\n",
      "Nacogdoches, TX 75961\n",
      "\t\t\t\t\t 420 North St. \t\t\t\t\tNacogdoches, TX 75961\n",
      "Livingston, TX 77351\n",
      "\t\t\t\t\t 203 N. Houston Ave. \t\t\t\t\tLivingston, TX 77351\n",
      "\n",
      "Houston, TX 77056 1885 St. James Place, Suite 1050 Houston, TX 77056\n",
      "http://www.badencpa.com/contact 404\n",
      "http://www.bakerholtz.com/contact 404\n",
      "\n",
      "                                                                                                Portland, ME 04101 280 Fore Street                                                                                                 Portland, ME 04101\n",
      "\n",
      "                                                                                                Boston, MA 02110 133 Federal Street                                                                                                     Suite 902                                                                                                 Boston, MA 02110\n",
      "\n",
      "                                                                                                Portsmouth, NH 03801 75 Portsmouth Boulevard                                                                                                     Suite 130                                                                                                 Portsmouth, NH 03801\n",
      "\n",
      "                                                                                                Manchester, NH 03101 650 Elm Street                                                                                                     Suite 302                                                                                                 Manchester, NH 03101\n",
      "\n",
      "                                                                                                Woburn, MA 01801 600 Unicorn Park Drive                                                                                                     2nd floor                                                                                                 Woburn, MA 01801\n"
     ]
    },
    {
     "ename": "ConnectionResetError",
     "evalue": "[WinError 10054] An existing connection was forcibly closed by the remote host",
     "output_type": "error",
     "traceback": [
      "\u001b[1;31m---------------------------------------------------------------------------\u001b[0m",
      "\u001b[1;31mConnectionResetError\u001b[0m                      Traceback (most recent call last)",
      "Input \u001b[1;32mIn [355]\u001b[0m, in \u001b[0;36m<cell line: 9>\u001b[1;34m()\u001b[0m\n\u001b[0;32m     14\u001b[0m req\u001b[38;5;241m.\u001b[39madd_header(\u001b[38;5;124m'\u001b[39m\u001b[38;5;124muser-agent\u001b[39m\u001b[38;5;124m'\u001b[39m, \u001b[38;5;124m'\u001b[39m\u001b[38;5;124mMozilla/5.0 (Windows NT 10.0; Win64; x64) AppleWebKit/537.36 (KHTML, like Gecko) Chrome/113.0.0.0 Safari/537.36 Edg/113.0.1774.57\u001b[39m\u001b[38;5;124m'\u001b[39m)\n\u001b[0;32m     16\u001b[0m \u001b[38;5;66;03m## Write html to r\u001b[39;00m\n\u001b[1;32m---> 17\u001b[0m r \u001b[38;5;241m=\u001b[39m \u001b[43murllib\u001b[49m\u001b[38;5;241;43m.\u001b[39;49m\u001b[43mrequest\u001b[49m\u001b[38;5;241;43m.\u001b[39;49m\u001b[43murlopen\u001b[49m\u001b[43m(\u001b[49m\u001b[43mreq\u001b[49m\u001b[43m,\u001b[49m\u001b[43m \u001b[49m\u001b[43mcontext\u001b[49m\u001b[38;5;241;43m=\u001b[39;49m\u001b[43mctx\u001b[49m\u001b[43m)\u001b[49m\u001b[38;5;241m.\u001b[39mread()\u001b[38;5;241m.\u001b[39mdecode(\u001b[38;5;124m'\u001b[39m\u001b[38;5;124mutf-8\u001b[39m\u001b[38;5;124m'\u001b[39m)\n\u001b[0;32m     18\u001b[0m \u001b[38;5;28;01mwith\u001b[39;00m \u001b[38;5;28mopen\u001b[39m(\u001b[38;5;124m\"\u001b[39m\u001b[38;5;124mtest.html\u001b[39m\u001b[38;5;124m\"\u001b[39m, \u001b[38;5;124m'\u001b[39m\u001b[38;5;124mw\u001b[39m\u001b[38;5;124m'\u001b[39m, encoding\u001b[38;5;241m=\u001b[39m\u001b[38;5;124m\"\u001b[39m\u001b[38;5;124mutf-8\u001b[39m\u001b[38;5;124m\"\u001b[39m) \u001b[38;5;28;01mas\u001b[39;00m f:\n\u001b[0;32m     19\u001b[0m     f\u001b[38;5;241m.\u001b[39mwrite(r)\n",
      "File \u001b[1;32m~\\Anaconda3\\lib\\urllib\\request.py:214\u001b[0m, in \u001b[0;36murlopen\u001b[1;34m(url, data, timeout, cafile, capath, cadefault, context)\u001b[0m\n\u001b[0;32m    212\u001b[0m \u001b[38;5;28;01melse\u001b[39;00m:\n\u001b[0;32m    213\u001b[0m     opener \u001b[38;5;241m=\u001b[39m _opener\n\u001b[1;32m--> 214\u001b[0m \u001b[38;5;28;01mreturn\u001b[39;00m \u001b[43mopener\u001b[49m\u001b[38;5;241;43m.\u001b[39;49m\u001b[43mopen\u001b[49m\u001b[43m(\u001b[49m\u001b[43murl\u001b[49m\u001b[43m,\u001b[49m\u001b[43m \u001b[49m\u001b[43mdata\u001b[49m\u001b[43m,\u001b[49m\u001b[43m \u001b[49m\u001b[43mtimeout\u001b[49m\u001b[43m)\u001b[49m\n",
      "File \u001b[1;32m~\\Anaconda3\\lib\\urllib\\request.py:517\u001b[0m, in \u001b[0;36mOpenerDirector.open\u001b[1;34m(self, fullurl, data, timeout)\u001b[0m\n\u001b[0;32m    514\u001b[0m     req \u001b[38;5;241m=\u001b[39m meth(req)\n\u001b[0;32m    516\u001b[0m sys\u001b[38;5;241m.\u001b[39maudit(\u001b[38;5;124m'\u001b[39m\u001b[38;5;124murllib.Request\u001b[39m\u001b[38;5;124m'\u001b[39m, req\u001b[38;5;241m.\u001b[39mfull_url, req\u001b[38;5;241m.\u001b[39mdata, req\u001b[38;5;241m.\u001b[39mheaders, req\u001b[38;5;241m.\u001b[39mget_method())\n\u001b[1;32m--> 517\u001b[0m response \u001b[38;5;241m=\u001b[39m \u001b[38;5;28;43mself\u001b[39;49m\u001b[38;5;241;43m.\u001b[39;49m\u001b[43m_open\u001b[49m\u001b[43m(\u001b[49m\u001b[43mreq\u001b[49m\u001b[43m,\u001b[49m\u001b[43m \u001b[49m\u001b[43mdata\u001b[49m\u001b[43m)\u001b[49m\n\u001b[0;32m    519\u001b[0m \u001b[38;5;66;03m# post-process response\u001b[39;00m\n\u001b[0;32m    520\u001b[0m meth_name \u001b[38;5;241m=\u001b[39m protocol\u001b[38;5;241m+\u001b[39m\u001b[38;5;124m\"\u001b[39m\u001b[38;5;124m_response\u001b[39m\u001b[38;5;124m\"\u001b[39m\n",
      "File \u001b[1;32m~\\Anaconda3\\lib\\urllib\\request.py:534\u001b[0m, in \u001b[0;36mOpenerDirector._open\u001b[1;34m(self, req, data)\u001b[0m\n\u001b[0;32m    531\u001b[0m     \u001b[38;5;28;01mreturn\u001b[39;00m result\n\u001b[0;32m    533\u001b[0m protocol \u001b[38;5;241m=\u001b[39m req\u001b[38;5;241m.\u001b[39mtype\n\u001b[1;32m--> 534\u001b[0m result \u001b[38;5;241m=\u001b[39m \u001b[38;5;28;43mself\u001b[39;49m\u001b[38;5;241;43m.\u001b[39;49m\u001b[43m_call_chain\u001b[49m\u001b[43m(\u001b[49m\u001b[38;5;28;43mself\u001b[39;49m\u001b[38;5;241;43m.\u001b[39;49m\u001b[43mhandle_open\u001b[49m\u001b[43m,\u001b[49m\u001b[43m \u001b[49m\u001b[43mprotocol\u001b[49m\u001b[43m,\u001b[49m\u001b[43m \u001b[49m\u001b[43mprotocol\u001b[49m\u001b[43m \u001b[49m\u001b[38;5;241;43m+\u001b[39;49m\n\u001b[0;32m    535\u001b[0m \u001b[43m                          \u001b[49m\u001b[38;5;124;43m'\u001b[39;49m\u001b[38;5;124;43m_open\u001b[39;49m\u001b[38;5;124;43m'\u001b[39;49m\u001b[43m,\u001b[49m\u001b[43m \u001b[49m\u001b[43mreq\u001b[49m\u001b[43m)\u001b[49m\n\u001b[0;32m    536\u001b[0m \u001b[38;5;28;01mif\u001b[39;00m result:\n\u001b[0;32m    537\u001b[0m     \u001b[38;5;28;01mreturn\u001b[39;00m result\n",
      "File \u001b[1;32m~\\Anaconda3\\lib\\urllib\\request.py:494\u001b[0m, in \u001b[0;36mOpenerDirector._call_chain\u001b[1;34m(self, chain, kind, meth_name, *args)\u001b[0m\n\u001b[0;32m    492\u001b[0m \u001b[38;5;28;01mfor\u001b[39;00m handler \u001b[38;5;129;01min\u001b[39;00m handlers:\n\u001b[0;32m    493\u001b[0m     func \u001b[38;5;241m=\u001b[39m \u001b[38;5;28mgetattr\u001b[39m(handler, meth_name)\n\u001b[1;32m--> 494\u001b[0m     result \u001b[38;5;241m=\u001b[39m \u001b[43mfunc\u001b[49m\u001b[43m(\u001b[49m\u001b[38;5;241;43m*\u001b[39;49m\u001b[43margs\u001b[49m\u001b[43m)\u001b[49m\n\u001b[0;32m    495\u001b[0m     \u001b[38;5;28;01mif\u001b[39;00m result \u001b[38;5;129;01mis\u001b[39;00m \u001b[38;5;129;01mnot\u001b[39;00m \u001b[38;5;28;01mNone\u001b[39;00m:\n\u001b[0;32m    496\u001b[0m         \u001b[38;5;28;01mreturn\u001b[39;00m result\n",
      "File \u001b[1;32m~\\Anaconda3\\lib\\urllib\\request.py:1375\u001b[0m, in \u001b[0;36mHTTPHandler.http_open\u001b[1;34m(self, req)\u001b[0m\n\u001b[0;32m   1374\u001b[0m \u001b[38;5;28;01mdef\u001b[39;00m \u001b[38;5;21mhttp_open\u001b[39m(\u001b[38;5;28mself\u001b[39m, req):\n\u001b[1;32m-> 1375\u001b[0m     \u001b[38;5;28;01mreturn\u001b[39;00m \u001b[38;5;28;43mself\u001b[39;49m\u001b[38;5;241;43m.\u001b[39;49m\u001b[43mdo_open\u001b[49m\u001b[43m(\u001b[49m\u001b[43mhttp\u001b[49m\u001b[38;5;241;43m.\u001b[39;49m\u001b[43mclient\u001b[49m\u001b[38;5;241;43m.\u001b[39;49m\u001b[43mHTTPConnection\u001b[49m\u001b[43m,\u001b[49m\u001b[43m \u001b[49m\u001b[43mreq\u001b[49m\u001b[43m)\u001b[49m\n",
      "File \u001b[1;32m~\\Anaconda3\\lib\\urllib\\request.py:1350\u001b[0m, in \u001b[0;36mAbstractHTTPHandler.do_open\u001b[1;34m(self, http_class, req, **http_conn_args)\u001b[0m\n\u001b[0;32m   1348\u001b[0m     \u001b[38;5;28;01mexcept\u001b[39;00m \u001b[38;5;167;01mOSError\u001b[39;00m \u001b[38;5;28;01mas\u001b[39;00m err: \u001b[38;5;66;03m# timeout error\u001b[39;00m\n\u001b[0;32m   1349\u001b[0m         \u001b[38;5;28;01mraise\u001b[39;00m URLError(err)\n\u001b[1;32m-> 1350\u001b[0m     r \u001b[38;5;241m=\u001b[39m \u001b[43mh\u001b[49m\u001b[38;5;241;43m.\u001b[39;49m\u001b[43mgetresponse\u001b[49m\u001b[43m(\u001b[49m\u001b[43m)\u001b[49m\n\u001b[0;32m   1351\u001b[0m \u001b[38;5;28;01mexcept\u001b[39;00m:\n\u001b[0;32m   1352\u001b[0m     h\u001b[38;5;241m.\u001b[39mclose()\n",
      "File \u001b[1;32m~\\Anaconda3\\lib\\http\\client.py:1377\u001b[0m, in \u001b[0;36mHTTPConnection.getresponse\u001b[1;34m(self)\u001b[0m\n\u001b[0;32m   1375\u001b[0m \u001b[38;5;28;01mtry\u001b[39;00m:\n\u001b[0;32m   1376\u001b[0m     \u001b[38;5;28;01mtry\u001b[39;00m:\n\u001b[1;32m-> 1377\u001b[0m         \u001b[43mresponse\u001b[49m\u001b[38;5;241;43m.\u001b[39;49m\u001b[43mbegin\u001b[49m\u001b[43m(\u001b[49m\u001b[43m)\u001b[49m\n\u001b[0;32m   1378\u001b[0m     \u001b[38;5;28;01mexcept\u001b[39;00m \u001b[38;5;167;01mConnectionError\u001b[39;00m:\n\u001b[0;32m   1379\u001b[0m         \u001b[38;5;28mself\u001b[39m\u001b[38;5;241m.\u001b[39mclose()\n",
      "File \u001b[1;32m~\\Anaconda3\\lib\\http\\client.py:320\u001b[0m, in \u001b[0;36mHTTPResponse.begin\u001b[1;34m(self)\u001b[0m\n\u001b[0;32m    318\u001b[0m \u001b[38;5;66;03m# read until we get a non-100 response\u001b[39;00m\n\u001b[0;32m    319\u001b[0m \u001b[38;5;28;01mwhile\u001b[39;00m \u001b[38;5;28;01mTrue\u001b[39;00m:\n\u001b[1;32m--> 320\u001b[0m     version, status, reason \u001b[38;5;241m=\u001b[39m \u001b[38;5;28;43mself\u001b[39;49m\u001b[38;5;241;43m.\u001b[39;49m\u001b[43m_read_status\u001b[49m\u001b[43m(\u001b[49m\u001b[43m)\u001b[49m\n\u001b[0;32m    321\u001b[0m     \u001b[38;5;28;01mif\u001b[39;00m status \u001b[38;5;241m!=\u001b[39m CONTINUE:\n\u001b[0;32m    322\u001b[0m         \u001b[38;5;28;01mbreak\u001b[39;00m\n",
      "File \u001b[1;32m~\\Anaconda3\\lib\\http\\client.py:281\u001b[0m, in \u001b[0;36mHTTPResponse._read_status\u001b[1;34m(self)\u001b[0m\n\u001b[0;32m    280\u001b[0m \u001b[38;5;28;01mdef\u001b[39;00m \u001b[38;5;21m_read_status\u001b[39m(\u001b[38;5;28mself\u001b[39m):\n\u001b[1;32m--> 281\u001b[0m     line \u001b[38;5;241m=\u001b[39m \u001b[38;5;28mstr\u001b[39m(\u001b[38;5;28;43mself\u001b[39;49m\u001b[38;5;241;43m.\u001b[39;49m\u001b[43mfp\u001b[49m\u001b[38;5;241;43m.\u001b[39;49m\u001b[43mreadline\u001b[49m\u001b[43m(\u001b[49m\u001b[43m_MAXLINE\u001b[49m\u001b[43m \u001b[49m\u001b[38;5;241;43m+\u001b[39;49m\u001b[43m \u001b[49m\u001b[38;5;241;43m1\u001b[39;49m\u001b[43m)\u001b[49m, \u001b[38;5;124m\"\u001b[39m\u001b[38;5;124miso-8859-1\u001b[39m\u001b[38;5;124m\"\u001b[39m)\n\u001b[0;32m    282\u001b[0m     \u001b[38;5;28;01mif\u001b[39;00m \u001b[38;5;28mlen\u001b[39m(line) \u001b[38;5;241m>\u001b[39m _MAXLINE:\n\u001b[0;32m    283\u001b[0m         \u001b[38;5;28;01mraise\u001b[39;00m LineTooLong(\u001b[38;5;124m\"\u001b[39m\u001b[38;5;124mstatus line\u001b[39m\u001b[38;5;124m\"\u001b[39m)\n",
      "File \u001b[1;32m~\\Anaconda3\\lib\\socket.py:704\u001b[0m, in \u001b[0;36mSocketIO.readinto\u001b[1;34m(self, b)\u001b[0m\n\u001b[0;32m    702\u001b[0m \u001b[38;5;28;01mwhile\u001b[39;00m \u001b[38;5;28;01mTrue\u001b[39;00m:\n\u001b[0;32m    703\u001b[0m     \u001b[38;5;28;01mtry\u001b[39;00m:\n\u001b[1;32m--> 704\u001b[0m         \u001b[38;5;28;01mreturn\u001b[39;00m \u001b[38;5;28;43mself\u001b[39;49m\u001b[38;5;241;43m.\u001b[39;49m\u001b[43m_sock\u001b[49m\u001b[38;5;241;43m.\u001b[39;49m\u001b[43mrecv_into\u001b[49m\u001b[43m(\u001b[49m\u001b[43mb\u001b[49m\u001b[43m)\u001b[49m\n\u001b[0;32m    705\u001b[0m     \u001b[38;5;28;01mexcept\u001b[39;00m timeout:\n\u001b[0;32m    706\u001b[0m         \u001b[38;5;28mself\u001b[39m\u001b[38;5;241m.\u001b[39m_timeout_occurred \u001b[38;5;241m=\u001b[39m \u001b[38;5;28;01mTrue\u001b[39;00m\n",
      "\u001b[1;31mConnectionResetError\u001b[0m: [WinError 10054] An existing connection was forcibly closed by the remote host"
     ]
    }
   ],
   "source": [
    "#Ignore SSL since some sites aren't https\n",
    "ctx = ssl.create_default_context()\n",
    "ctx.check_hostname = False\n",
    "ctx.verify_mode = ssl.CERT_NONE\n",
    "\n",
    "\n",
    "## Read in the html\n",
    "addresses=[]\n",
    "for url in urls[1:100]:\n",
    "    \n",
    "    try:\n",
    "        ## URLlib paramters, the user-agent header may need to be updated by looking at network in dev tools on website\n",
    "        req = urllib.request.Request(url)\n",
    "        req.add_header('user-agent', 'Mozilla/5.0 (Windows NT 10.0; Win64; x64) AppleWebKit/537.36 (KHTML, like Gecko) Chrome/113.0.0.0 Safari/537.36 Edg/113.0.1774.57')\n",
    "\n",
    "        ## Write html to r\n",
    "        r = urllib.request.urlopen(req, context=ctx).read().decode('utf-8')\n",
    "        with open(\"test.html\", 'w', encoding=\"utf-8\") as f:\n",
    "            f.write(r)\n",
    "\n",
    "        ## Have beautfil soup run it's html parsing magic\n",
    "        soup = bs(r, 'html.parser')\n",
    "\n",
    "        ## Here's the pattern to just find what tag contains a city like string\n",
    "        pattern = re.compile('[A-z]+,\\s[A-Z]{2}\\s\\d{5}(?!\\d)')\n",
    "\n",
    "\n",
    "        # For each string in a tag that gets returned look for a full street address within the string and append to addresses\n",
    "        for tag in soup.find_all(string=re.compile(pattern)):\n",
    "            match = re.search('\\d{1,5}\\s(?:[A-z\\S]*\\s){1,3}(?:Avenue|Lane|Road|Boulevard|Drive|Floor|Street|Ave|Dr|Rd|Blvd|Ln|St|Suite).*\\d{5}',\n",
    "                              tag.parent.get_text().replace('\\n', ' ').replace(\"\\xa0\", ' '))\n",
    "            if match:\n",
    "                print(tag,match.group(0))\n",
    "                addresses.append([url, match.group(0)])\n",
    "            else:\n",
    "                pass\n",
    "            \n",
    "            \n",
    "    except urllib.error.HTTPError as err:\n",
    "        print(url, err.code)\n"
   ]
  },
  {
   "cell_type": "code",
   "execution_count": 357,
   "id": "ff204d79",
   "metadata": {},
   "outputs": [],
   "source": [
    "addresses = pd.Series(addresses)"
   ]
  },
  {
   "cell_type": "code",
   "execution_count": 370,
   "id": "b1dde87f",
   "metadata": {},
   "outputs": [
    {
     "name": "stdout",
     "output_type": "stream",
     "text": [
      "1885 St. James Place, Suite 1050 Houston, TX 77056\n",
      "280 Fore Street                                                                                                 Portland, ME 04101\n",
      "133 Federal Street                                                                                                     Suite 902                                                                                                 Boston, MA 02110\n",
      "75 Portsmouth Boulevard                                                                                                     Suite 130                                                                                                 Portsmouth, NH 03801\n",
      "650 Elm Street                                                                                                     Suite 302                                                                                                 Manchester, NH 03101\n",
      "600 Unicorn Park Drive                                                                                                     2nd floor                                                                                                 Woburn, MA 01801\n"
     ]
    }
   ],
   "source": [
    "for addy in addresses[80:]:\n",
    "    print(addy[1])"
   ]
  },
  {
   "cell_type": "markdown",
   "id": "cbd89ce2",
   "metadata": {},
   "source": [
    "## Troubleshooting edge cases"
   ]
  },
  {
   "cell_type": "markdown",
   "id": "c34576c5",
   "metadata": {},
   "source": [
    "### AGL LLP\n",
    "- Needed to use urllib because of security defenses on this website"
   ]
  },
  {
   "cell_type": "code",
   "execution_count": 303,
   "id": "33dd0cf6",
   "metadata": {},
   "outputs": [],
   "source": [
    "import urllib\n",
    "import ssl"
   ]
  },
  {
   "cell_type": "code",
   "execution_count": 317,
   "id": "5f3fd8af",
   "metadata": {},
   "outputs": [],
   "source": [
    "ctx = ssl.create_default_context()\n",
    "ctx.check_hostname = False\n",
    "ctx.verify_mode = ssl.CERT_NONE\n",
    "\n",
    "req = urllib.request.Request('http://www.acuitycpas.com/contact')\n",
    "req.add_header('user-agent', 'Mozilla/5.0 (Windows NT 10.0; Win64; x64) AppleWebKit/537.36 (KHTML, like Gecko) Chrome/113.0.0.0 Safari/537.36 Edg/113.0.1774.57')\n",
    "\n",
    "r = urllib.request.urlopen(req, context=ctx).read().decode('utf-8')\n",
    "with open(\"test.html\", 'w', encoding=\"utf-8\") as f:\n",
    "    f.write(r)\n",
    "    \n",
    "soup = bs(r, 'html.parser')\n",
    "\n"
   ]
  },
  {
   "cell_type": "code",
   "execution_count": 295,
   "id": "ebcfaea1",
   "metadata": {},
   "outputs": [
    {
     "data": {
      "text/plain": [
       "'AAFCPAs Westborough 50 Washington Street Westborough, MA 01581'"
      ]
     },
     "execution_count": 295,
     "metadata": {},
     "output_type": "execute_result"
    }
   ],
   "source": [
    "tag.parent.get_text().replace('\\n', ' ').replace(\"\\xa0\", ' ')"
   ]
  },
  {
   "cell_type": "code",
   "execution_count": 306,
   "id": "ce97d28a",
   "metadata": {},
   "outputs": [
    {
     "data": {
      "text/plain": [
       "'2425 N Central Expressway, Suite 200 Richardson, TX 75080'"
      ]
     },
     "execution_count": 306,
     "metadata": {},
     "output_type": "execute_result"
    }
   ],
   "source": [
    "match.group(0)"
   ]
  },
  {
   "cell_type": "markdown",
   "id": "6d8a666b",
   "metadata": {},
   "source": [
    "###  adamsbrowncpa.com\n",
    "This url doesn't actually have locations on contact page, just a contact form. there is a different url that has locations. But still not sure why I'm getting a 404 error in my loop but not here"
   ]
  },
  {
   "cell_type": "code",
   "execution_count": 347,
   "id": "a8467b70",
   "metadata": {
    "scrolled": true
   },
   "outputs": [],
   "source": [
    "req = urllib.request.Request('https://www.adamsbrowncpa.com/contact/')\n",
    "req.add_header('user-agent', 'Mozilla/5.0 (Windows NT 10.0; Win64; x64) AppleWebKit/537.36 (KHTML, like Gecko) Chrome/113.0.0.0 Safari/537.36 Edg/113.0.1774.57')"
   ]
  },
  {
   "cell_type": "code",
   "execution_count": 348,
   "id": "96ad458b",
   "metadata": {},
   "outputs": [
    {
     "name": "stdout",
     "output_type": "stream",
     "text": [
      "try\n"
     ]
    }
   ],
   "source": [
    "ctx = ssl.create_default_context()\n",
    "ctx.check_hostname = False\n",
    "ctx.verify_mode = ssl.CERT_NONE\n",
    "\n",
    "try:\n",
    "    urllib.request.urlopen(req, context=ctx)\n",
    "    print('try')\n",
    "except urllib.error.HTTPError as err:\n",
    "    print(err.code)\n",
    "    print('except')"
   ]
  },
  {
   "cell_type": "markdown",
   "id": "468a2e7f",
   "metadata": {},
   "source": [
    "### Still need to fix"
   ]
  },
  {
   "cell_type": "markdown",
   "id": "17b54aa2",
   "metadata": {},
   "source": [
    "1. There are massive line breaks between street name and city in addresses[80:84] \n",
    "2. There are \\r text chars in some addresses, need to replace\n",
    "3. If 404/403 returned modify url to 'contact-us'"
   ]
  },
  {
   "cell_type": "code",
   "execution_count": null,
   "id": "aefb5449",
   "metadata": {},
   "outputs": [],
   "source": []
  },
  {
   "cell_type": "code",
   "execution_count": null,
   "id": "234f4937",
   "metadata": {},
   "outputs": [],
   "source": []
  },
  {
   "cell_type": "code",
   "execution_count": null,
   "id": "7e860c0b",
   "metadata": {},
   "outputs": [],
   "source": []
  },
  {
   "cell_type": "code",
   "execution_count": null,
   "id": "9cf68c7b",
   "metadata": {},
   "outputs": [],
   "source": []
  },
  {
   "cell_type": "code",
   "execution_count": null,
   "id": "6b4ff933",
   "metadata": {},
   "outputs": [],
   "source": []
  },
  {
   "cell_type": "code",
   "execution_count": null,
   "id": "9655c2b1",
   "metadata": {},
   "outputs": [],
   "source": []
  },
  {
   "cell_type": "code",
   "execution_count": null,
   "id": "a810f5b4",
   "metadata": {},
   "outputs": [],
   "source": []
  }
 ],
 "metadata": {
  "kernelspec": {
   "display_name": "Python 3 (ipykernel)",
   "language": "python",
   "name": "python3"
  },
  "language_info": {
   "codemirror_mode": {
    "name": "ipython",
    "version": 3
   },
   "file_extension": ".py",
   "mimetype": "text/x-python",
   "name": "python",
   "nbconvert_exporter": "python",
   "pygments_lexer": "ipython3",
   "version": "3.9.12"
  },
  "toc": {
   "base_numbering": 1,
   "nav_menu": {},
   "number_sections": true,
   "sideBar": true,
   "skip_h1_title": false,
   "title_cell": "Table of Contents",
   "title_sidebar": "Contents",
   "toc_cell": false,
   "toc_position": {},
   "toc_section_display": true,
   "toc_window_display": false
  }
 },
 "nbformat": 4,
 "nbformat_minor": 5
}
