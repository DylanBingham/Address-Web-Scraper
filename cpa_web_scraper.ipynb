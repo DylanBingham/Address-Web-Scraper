{
 "cells": [
  {
   "cell_type": "markdown",
   "id": "58bda581",
   "metadata": {},
   "source": [
    "Goals\n",
    "1. Function that takes url as arguement\n",
    "2. Use urllib to get response from url, ignoring ssl\n",
    "3. Use beautiful soup to read content via html parser\n",
    "4. Next loop through elements of html using regex to find string that matches for City, StateAbrrev ZipCode\n",
    "5. Then retrieve the parent of that tag and match for full street address using regex\n",
    "6. Once found then append to list with url preceding"
   ]
  },
  {
   "cell_type": "code",
   "execution_count": 1,
   "id": "71a3d1c9",
   "metadata": {},
   "outputs": [],
   "source": [
    "import requests \n",
    "from bs4 import BeautifulSoup as bs\n",
    "import pandas as pd\n",
    "import re\n",
    "import urllib\n",
    "import ssl"
   ]
  },
  {
   "cell_type": "code",
   "execution_count": 3,
   "id": "095ddb4b",
   "metadata": {},
   "outputs": [],
   "source": [
    "cpas = pd.read_excel('./US_Firms_Market_Analysis_2023.xlsx',sheet_name='DATA')"
   ]
  },
  {
   "cell_type": "code",
   "execution_count": 5,
   "id": "27d098cd",
   "metadata": {},
   "outputs": [],
   "source": [
    "cpas.dropna(subset=['URL'], inplace=True)"
   ]
  },
  {
   "cell_type": "markdown",
   "id": "6f2e2ad6",
   "metadata": {},
   "source": [
    "## Script to grab url from dataset"
   ]
  },
  {
   "cell_type": "code",
   "execution_count": 6,
   "id": "f3b97f18",
   "metadata": {},
   "outputs": [],
   "source": [
    "urls=[]\n",
    "for url in cpas['URL'].unique():\n",
    "    if len(str(url)) == 0:\n",
    "        pass\n",
    "    else:\n",
    "        match = re.search(r'((?:https?://)?[^\\s()]+\\.com)', url)\n",
    "        if match:\n",
    "            urls.append(match.group(1))"
   ]
  },
  {
   "cell_type": "markdown",
   "id": "68a46c73",
   "metadata": {},
   "source": [
    "## Adding https:// if it doesn't already exist and /contact"
   ]
  },
  {
   "cell_type": "code",
   "execution_count": 7,
   "id": "30636608",
   "metadata": {},
   "outputs": [],
   "source": [
    "index = 0\n",
    "for url in urls:\n",
    "    if 'https://' in url or 'http://' in url:\n",
    "        index = urls.index(url)\n",
    "        urls.remove(url)\n",
    "        url = url + '/contact'\n",
    "        urls.insert(index, url)\n",
    "    else:\n",
    "        index = urls.index(url)\n",
    "        urls.remove(url)\n",
    "        url = 'https://' + url + '/contact/'\n",
    "        urls.insert(index, url)\n",
    "        "
   ]
  },
  {
   "cell_type": "markdown",
   "id": "d00cb5c2",
   "metadata": {},
   "source": [
    "### Using old regex this matches city, stateAbbr ZipCode"
   ]
  },
  {
   "cell_type": "markdown",
   "id": "b0be82f2",
   "metadata": {},
   "source": [
    "addresses=[]\n",
    "for url in urls[2:5]:\n",
    "    response = requests.get(url, verify=False)\n",
    "    soup = bs(response.content, 'html.parser')\n",
    "    \n",
    "    \n",
    "    pattern = re.compile('[A-z]+,\\s[A-Z]{2}\\s\\d{5}(?!\\d)')\n",
    "    \n",
    "\n",
    "    for tag in soup.find_all(string=re.compile(pattern)):\n",
    "        print(tag)\n",
    "        print('\\n'*2)\n",
    "        addresses.append([url, tag.parent.get_text().replace('\\n', ' ').replace(\"\\xa0\", ' ')])\n",
    "\n",
    "print(addresses)"
   ]
  },
  {
   "cell_type": "markdown",
   "id": "83cbbfa8",
   "metadata": {},
   "source": [
    "### Loop through all urls\n",
    "1. Search for string that matches the pattern of City, StateAbbrev ZipCode\n",
    "2. then search the parent of that tag for the full street address\n",
    "    - also replaces a few errors like \\n, \\xa0\n",
    "3. verifies if a match was found and if so then appends the url and street address to a list called addresses\n",
    "4. otherwises passes then reruns loop"
   ]
  },
  {
   "cell_type": "code",
   "execution_count": 371,
   "id": "75a12a20",
   "metadata": {
    "scrolled": true
   },
   "outputs": [
    {
     "name": "stdout",
     "output_type": "stream",
     "text": [
      "\n",
      "Richardson, TX 75080 2425 N Central Expressway, Suite 200 Richardson, TX 75080\n",
      "\n",
      "Boston, MA 02110 160 Federal Street, 16th Floor Boston, MA 02110\n",
      "\n",
      "Waltham, MA 02452 465 Waverly Oaks Road, Waltham, MA 02452\n",
      "\n",
      "Westborough, MA 01581 50 Washington Street Westborough, MA 01581\n",
      " Floor, New York, NY 10019 1740 Broadway 15th Floor, New York, NY 10019\n",
      "New York, NY 10019 1740 Broadway 15th FloorNew York, NY 10019\n",
      "Beverly Hills, CA 90211 8383 Wilshire Blvd Ste 800Beverly Hills, CA 90211\n",
      "\n",
      "New York, NY 10019 1740 Broadway 15th Floor New York, NY 10019\n",
      "\n",
      "Campbell, CA 95008 1901 S. Bascom Ave Suite 105 Campbell, CA 95008\n",
      "© 2023 Abbott, Stringham & Lynch - Silicon Valley CPA Firm - 1901 South Bascom Avenue, Suite 105, Campbell, CA 95008  2023 Abbott, Stringham & Lynch - Silicon Valley CPA Firm - 1901 South Bascom Avenue, Suite 105, Campbell, CA 95008\n",
      "\n",
      "Edina, MN 55436 5201 Eden Avenue, Suite 250 Edina, MN 55436\n",
      "\n",
      "Mankato, MN 56001 100 Warren Street, Suite 600 Mankato, MN 56001\n",
      "\n",
      "Scottsdale, AZ 85260 14500 N Northsight Blvd, Ste 233 Scottsdale, AZ 85260\n",
      "\n",
      "Edina, MN 55436 5201 Eden Avenue, Suite 250 Edina, MN 55436\n",
      "\n",
      "Mankato, MN 56001 100 Warren Street, Suite 600 Mankato, MN 56001\n",
      "\n",
      "Scottsdale, AZ 85260 14500 N Northsight Blvd, Ste 233 Scottsdale, AZ 85260\n",
      "Coral Gables, FL 33134 255 Aragon Avenue, 2nd FloorCoral Gables, FL 33134\n",
      "Aventura, FL 33180 20803 Biscayne Blvd.,Suite 310Aventura, FL 33180\n",
      "Coral Gables, FL 33134 255 Aragon Avenue, 2nd FloorCoral Gables, FL 33134\n",
      "Boca Raton, FL 33432 327 Plaza Real, Suite 235Boca Raton, FL 33432\n",
      "Aventura, FL 33180 20803 Biscayne Blvd., Suite 310Aventura, FL 33180\n",
      "\n",
      "Lancaster, PA 17602-2289 454 New Holland Avenue Suite 200 Lancaster, PA 17602\n",
      "https://www.adelfiacpas.com/contact 404\n",
      "http://www.adelsoncpa.com/contact 404\n",
      "\n",
      "New York, NY 10019 244 W 54th Street 9th Floor New York, NY 10019\n",
      "\n",
      "Olney, MD 20832 3311 Olney Sandy Spring Rd Olney, MD 20832\n",
      "\n",
      "Jericho, NY 11753 390 N Broadway Suite 120 Jericho, NY 11753\n",
      "\n",
      "White Plains, NY 10601 200 Mamaroneck Ave Suite 502 White Plains, NY 10601\n",
      "\n",
      "Marina Del Rey, CA 90292 4640 Admiralty Way Suite 417 Marina Del Rey, CA 90292\n",
      "Redding, CA 96001 1726 Court StreetRedding, CA 96001\n",
      "Mt. Shasta, CA 96067 205 N. Mt. Shasta Blvd. STE #300Mt. Shasta, CA 96067\n",
      "Redding, CA 96001 1726 Court StreetRedding, CA 96001\n",
      "Mt. Shasta, CA 96067 205 N. Mt. Shasta Blvd. Ste #300 Mt. Shasta, CA 96067\n",
      "http://www.adkf.com/contact 404\n",
      "https://www.aka-cpa.com/contact/ 404\n",
      "3rd Floor Portland, ME 04101 130 Middle Street,3rd Floor Portland, ME 04101\n",
      "116 Company St, Wetumpka, AL 36092 116 Company St, Wetumpka, AL 36092\n",
      "1922 Professional Circle, Suite 205, Auburn, AL 36830 1922 Professional Circle, Suite 205, Auburn, AL 36830\n",
      "\n",
      "Austin, TX 78759 10900 Research Blvd Ste 160C PMB 3057 Austin, TX 78759\n",
      "https://www.aghlc.com/contact/ 404\n",
      "http://www.almichcpa.com/contact 308\n",
      "\n",
      "Grand Island, NE 68802 1203 W. 2nd St. P.O. Box 1407 Grand Island, NE 68802\n",
      "https://ampeisch.com/contact/ 404\n",
      "\n",
      " Uniondale, NY 1155350 Charles Lindbergh Blvd\n",
      "\n",
      " Boca Raton, FL 334312255 Glades Road, Suite 111E\n",
      "\n",
      " Uniondale, NY 1155350 Charles Lindbergh Blvd\n",
      "\n",
      " Boca Raton, FL 334312255 Glades Road, Suite 111E\n",
      "\n",
      " St. Louis, MO 631012501 800 Market Street, Suite 500\n",
      " Greeley, CO 80634-4813 5801 W. 11th St., Suite 300 (in the Wells Fargo Bank building) Greeley, CO 80634\n",
      "5801 W 11th St, Suite 300, Greeley, CO 80634 5801 W 11th St, Suite 300, Greeley, CO 80634\n",
      "McKinney, TX 75071 4695 W University Dr, #100McKinney, TX 75071\n",
      "McKinney, TX 75071 4695 W University Dr, #100McKinney, TX 75071\n",
      " McKinney, TX 75071 4695 W University Dr, #100 McKinney, TX 75071\n",
      "http://www.anthonydodge.com/contact 403\n",
      "Akron, OH 44313 1540 W. Market St.Akron, OH 44313\n",
      "Canton, OH 44718 4740 Belpar St. NWCanton, OH 44718\n",
      "Chicago, IL 60604 111 W. Jackson Blvd., Suite 1700Chicago, IL 60604\n",
      "Beachwood, OH 44122 25550 Chagrin Boulevard, Suite 401Beachwood, OH 44122\n",
      "http://www.leafsaltzman.com/contact 522\n",
      "\n",
      "San Ramon, CA 94583 12657 Alcosta Blvd #500 San Ramon, CA 94583\n",
      "\n",
      "Austin, TX 78703 1710 W 6th St Austin, TX 78703\n",
      "\n",
      "Bellevue, WA 98004 155 108th Ave NE #820 Bellevue, WA 98004\n",
      "\n",
      "Boise, ID 83702 950 W. Bannock St Suite 350 Boise, ID 83702\n",
      "\n",
      "Chicago, IL 60606 200 S. Wacker Dr Suite 800 Chicago, IL 60606\n",
      "\n",
      "Denver, CO 80202 999 18th St #3300 Denver, CO 80202\n",
      "\n",
      "El Segundo, CA 90245 2101 E El Segundo Blvd   Suite 400 El Segundo, CA 90245\n",
      "\n",
      "Irvine, CA 92612 18101 Von Karman Ave #1400 Irvine, CA 92612\n",
      "\n",
      "Los Angeles, CA 90017 777 S Figueroa St #2600 Los Angeles, CA 90017\n",
      "\n",
      "Naperville, IL 60540 55 S Main St #277 Naperville, IL 60540\n",
      "\n",
      "Philadelphia, PA 19103 1600 Market St #3300 Philadelphia, PA 19103\n",
      "\n",
      "San Francisco, CA 94104 44 Montgomery St #900 San Francisco, CA 94104\n",
      "\n",
      "San Jose, CA 95113 50 W San Fernando St #500 San Jose, CA 95113\n",
      "\n",
      "San Luis Obispo, CA 93401 711 Tank Farm Rd Ste 115 San Luis Obispo, CA 93401\n",
      "\n",
      "Scranton, PA 18503 321 Spruce St Suite 701 Scranton, PA 18503\n",
      "\n",
      "St. Charles, MO 63303 1520 S 5th St #309 St. Charles, MO 63303\n",
      "\n",
      "St. Louis, MO 63141 6 CityPlace Dr #900 St. Louis, MO 63141\n",
      "\n",
      "Los Angeles, CA 90025 11766 Wilshire Blvd 9th Floor Los Angeles, CA 90025\n",
      "\n",
      "Woodland Hills, CA 91367 21650 W Oxnard St Suite 2400 Woodland Hills, CA 91367\n",
      "http://www.armstrongbackus.com/contact 404\n",
      "http://www.cpa-arm.com/contact 404\n",
      "\n",
      "Medford, OR 97504 3512 Excel Dr, Suite 103 Medford, OR 97504\n",
      "\n",
      "Chicago, IL 60602 1 North LaSalle Street, Suite 1675 Chicago, IL 60602\n",
      "https://atchleycpas.com/contact/ 404\n",
      "http://www.austinpa.com/contact 404\n",
      "Fairhope, AL 36532 806 North Section StreetP. O. Box 1469Fairhope, AL 36532251\n",
      "Foley, AL 36535  110 West Section AvenueP. O. Box 190Foley, AL 36535\n",
      "Brewton, AL 36427 115 St. Joseph AvenueP. O. Box 773Brewton, AL 36427251\n",
      "               Lufkin, TX 75901 1307 S. 1st St.               Lufkin, TX 75901\n",
      "               Nacogdoches, TX 75961 420 North St.               Nacogdoches, TX 75961\n",
      "               Livingston, TX 77351 203 N. Houston Ave.               Livingston, TX 77351\n",
      "Lufkin, TX 75901\n",
      "\t\t\t\t\t 1307 S. 1st St. \t\t\t\t\tLufkin, TX 75901\n",
      "Nacogdoches, TX 75961\n",
      "\t\t\t\t\t 420 North St. \t\t\t\t\tNacogdoches, TX 75961\n",
      "Livingston, TX 77351\n",
      "\t\t\t\t\t 203 N. Houston Ave. \t\t\t\t\tLivingston, TX 77351\n",
      "\n",
      "Houston, TX 77056 1885 St. James Place, Suite 1050 Houston, TX 77056\n",
      "http://www.badencpa.com/contact 404\n",
      "http://www.bakerholtz.com/contact 404\n",
      "\n",
      "                                                                                                Portland, ME 04101 280 Fore Street                                                                                                 Portland, ME 04101\n",
      "\n",
      "                                                                                                Boston, MA 02110 133 Federal Street                                                                                                     Suite 902                                                                                                 Boston, MA 02110\n",
      "\n",
      "                                                                                                Portsmouth, NH 03801 75 Portsmouth Boulevard                                                                                                     Suite 130                                                                                                 Portsmouth, NH 03801\n",
      "\n",
      "                                                                                                Manchester, NH 03101 650 Elm Street                                                                                                     Suite 302                                                                                                 Manchester, NH 03101\n",
      "\n",
      "                                                                                                Woburn, MA 01801 600 Unicorn Park Drive                                                                                                     2nd floor                                                                                                 Woburn, MA 01801\n"
     ]
    },
    {
     "name": "stderr",
     "output_type": "stream",
     "text": [
      "IOPub data rate exceeded.\n",
      "The notebook server will temporarily stop sending output\n",
      "to the client in order to avoid crashing it.\n",
      "To change this limit, set the config variable\n",
      "`--NotebookApp.iopub_data_rate_limit`.\n",
      "\n",
      "Current values:\n",
      "NotebookApp.iopub_data_rate_limit=1000000.0 (bytes/sec)\n",
      "NotebookApp.rate_limit_window=3.0 (secs)\n",
      "\n"
     ]
    },
    {
     "name": "stdout",
     "output_type": "stream",
     "text": [
      "http://www.umbaugh.com/contact 522\n"
     ]
    },
    {
     "name": "stderr",
     "output_type": "stream",
     "text": [
      "IOPub data rate exceeded.\n",
      "The notebook server will temporarily stop sending output\n",
      "to the client in order to avoid crashing it.\n",
      "To change this limit, set the config variable\n",
      "`--NotebookApp.iopub_data_rate_limit`.\n",
      "\n",
      "Current values:\n",
      "NotebookApp.iopub_data_rate_limit=1000000.0 (bytes/sec)\n",
      "NotebookApp.rate_limit_window=3.0 (secs)\n",
      "\n"
     ]
    },
    {
     "name": "stdout",
     "output_type": "stream",
     "text": [
      "http://www.mwellp.com/contact 404\n",
      "https://hhcpa.com/contact/ 404\n",
      "Richmond, KY 40475 713 West Main StreetRichmond, KY 40475P.O. Box 1390Richmond, KY 40476-1390859\n",
      "Richmond, KY 40476-1390 713 West Main StreetRichmond, KY 40475P.O. Box 1390Richmond, KY 40476-1390859\n",
      "Flemingsburg, KY 41041 114 N Main Cross StreetFlemingsburg, KY 41041P.O. Box 226Flemingsburg, KY 41041606\n",
      "Flemingsburg, KY 41041 114 N Main Cross StreetFlemingsburg, KY 41041P.O. Box 226Flemingsburg, KY 41041606\n",
      "Lexington, KY 40513 1019 Majestic Drive, Suite 370Lexington, KY 40513859\n",
      "Louisville, KY 40223 10180 Linn Station Road, Suite A200Louisville, KY 40223502\n",
      "Maysville, KY 41056 116 Sutton StreetMaysville, KY 41056606\n",
      "College Park, GA 30337 3504 East Main StreetCollege Park, GA 30337\n",
      "Birmingham, AL 35222 617 Thirty-Seventh Street SouthBirmingham, AL 35222\n",
      "Denver, CO 80224 925 South Niagara StreetSuite 240Denver, CO 80224\n",
      "Memphis, TN 38104 1450 Poplar AvenueMemphis, TN 38104\n",
      "College Park, GA 30337 3504 East Main StreetCollege Park, GA 30337\n",
      "Birmingham, AL 35222 617 Thirty-Seventh Street SouthBirmingham, AL 35222\n",
      "Denver, CO 80224 925 South Niagara StreetSuite 240Denver, CO 80224\n",
      "Memphis, TN 38104 1450 Poplar AvenueMemphis, TN 38104\n",
      "\n",
      "Chicago, IL 60631 8745 West Higgins Road Suite 200 Chicago, IL 60631\n",
      "\n",
      "8745 West Higgins Road, Suite 200, Chicago, IL 60631 8745 West Higgins Road, Suite 200, Chicago, IL 60631\n",
      "http://www.baratzcpa.com/contact 404\n",
      "\n",
      "Bakersfield, CA 93309 5001 E. Commercenter Drive Suite 350 Bakersfield, CA 93309\n",
      "\n",
      "\n",
      "\t\t\t\t\t5001 E. Commercenter Dr. Suite 350 | Bakersfield, CA 93309 | Phone: (661) 631-1171 5001 E. Commercenter Dr. Suite 350 | Bakersfield, CA 93309\n",
      "\n",
      "Reno, NV 89501 100 W. Liberty St. Suite 1100 Reno, NV 89501\n",
      "\n",
      "Reno, NV 89501\n",
      " 100 W. Liberty St., Suite 1100  Reno, NV 89501\n",
      "\n",
      "Cincinnati, OH 45202 150 East Fourth Street Cincinnati, OH 45202\n",
      "\n",
      "Dayton, OH 45423-1002 40 N Main St Ste 2000 Dayton, OH 45423\n",
      "\n",
      "Santa Barbara, CA 93101 1123 Chapala Street, 3rd Floor Santa Barbara, CA 93101\n",
      "\n",
      "525 Candler Street, NE. Gainesville, GA 30501\n",
      "                     525 Candler Street, NE. Gainesville, GA 30501\n",
      "\n",
      "Columbia, SC 29201 [ 1501 Main Street, Suite 600 Columbia, SC 29201\n",
      "http://www.baumancpa.com/contact 404\n",
      "Philadelphia, PA 19103 1835 Market Street, 3rd FloorPhiladelphia, PA 19103\n",
      "http://www.beachfleischman.com/contact 404\n",
      "Las Cruces, NM 88001 509 S. Main St Suite A Las Cruces, NM 88001\n",
      "El Paso, TX 79912 4487 N Mesa St Suite 101 El Paso, TX 79912\n",
      "Albuquerque, NM 87109 7500 Jefferson St NE Suite 100Albuquerque, NM 87109\n",
      "\n",
      "Flemington, NJ 08822 39 State Route 12, Suite 2 Flemington, NJ 08822\n",
      "\n",
      "Woodstown, NJ 08098 34 East Avenue Woodstown, NJ 08098\n",
      "39 State Route 12, Suite 2, Flemington, NJ 08822 39 State Route 12, Suite 2, Flemington, NJ 08822\n",
      "34 East Avenue, Woodstown, NJ 08098 34 East Avenue, Woodstown, NJ 08098\n",
      "234 Church Street New Haven, CT 06510 234 Church Street New Haven, CT 06510\n",
      "1 Post Rd, Fairfield, CT 06824 1 Post Rd, Fairfield, CT 06824\n"
     ]
    },
    {
     "ename": "URLError",
     "evalue": "<urlopen error EOF occurred in violation of protocol (_ssl.c:1129)>",
     "output_type": "error",
     "traceback": [
      "\u001b[1;31m---------------------------------------------------------------------------\u001b[0m",
      "\u001b[1;31mSSLEOFError\u001b[0m                               Traceback (most recent call last)",
      "File \u001b[1;32m~\\Anaconda3\\lib\\urllib\\request.py:1346\u001b[0m, in \u001b[0;36mAbstractHTTPHandler.do_open\u001b[1;34m(self, http_class, req, **http_conn_args)\u001b[0m\n\u001b[0;32m   1345\u001b[0m \u001b[38;5;28;01mtry\u001b[39;00m:\n\u001b[1;32m-> 1346\u001b[0m     \u001b[43mh\u001b[49m\u001b[38;5;241;43m.\u001b[39;49m\u001b[43mrequest\u001b[49m\u001b[43m(\u001b[49m\u001b[43mreq\u001b[49m\u001b[38;5;241;43m.\u001b[39;49m\u001b[43mget_method\u001b[49m\u001b[43m(\u001b[49m\u001b[43m)\u001b[49m\u001b[43m,\u001b[49m\u001b[43m \u001b[49m\u001b[43mreq\u001b[49m\u001b[38;5;241;43m.\u001b[39;49m\u001b[43mselector\u001b[49m\u001b[43m,\u001b[49m\u001b[43m \u001b[49m\u001b[43mreq\u001b[49m\u001b[38;5;241;43m.\u001b[39;49m\u001b[43mdata\u001b[49m\u001b[43m,\u001b[49m\u001b[43m \u001b[49m\u001b[43mheaders\u001b[49m\u001b[43m,\u001b[49m\n\u001b[0;32m   1347\u001b[0m \u001b[43m              \u001b[49m\u001b[43mencode_chunked\u001b[49m\u001b[38;5;241;43m=\u001b[39;49m\u001b[43mreq\u001b[49m\u001b[38;5;241;43m.\u001b[39;49m\u001b[43mhas_header\u001b[49m\u001b[43m(\u001b[49m\u001b[38;5;124;43m'\u001b[39;49m\u001b[38;5;124;43mTransfer-encoding\u001b[39;49m\u001b[38;5;124;43m'\u001b[39;49m\u001b[43m)\u001b[49m\u001b[43m)\u001b[49m\n\u001b[0;32m   1348\u001b[0m \u001b[38;5;28;01mexcept\u001b[39;00m \u001b[38;5;167;01mOSError\u001b[39;00m \u001b[38;5;28;01mas\u001b[39;00m err: \u001b[38;5;66;03m# timeout error\u001b[39;00m\n",
      "File \u001b[1;32m~\\Anaconda3\\lib\\http\\client.py:1285\u001b[0m, in \u001b[0;36mHTTPConnection.request\u001b[1;34m(self, method, url, body, headers, encode_chunked)\u001b[0m\n\u001b[0;32m   1284\u001b[0m \u001b[38;5;124;03m\"\"\"Send a complete request to the server.\"\"\"\u001b[39;00m\n\u001b[1;32m-> 1285\u001b[0m \u001b[38;5;28;43mself\u001b[39;49m\u001b[38;5;241;43m.\u001b[39;49m\u001b[43m_send_request\u001b[49m\u001b[43m(\u001b[49m\u001b[43mmethod\u001b[49m\u001b[43m,\u001b[49m\u001b[43m \u001b[49m\u001b[43murl\u001b[49m\u001b[43m,\u001b[49m\u001b[43m \u001b[49m\u001b[43mbody\u001b[49m\u001b[43m,\u001b[49m\u001b[43m \u001b[49m\u001b[43mheaders\u001b[49m\u001b[43m,\u001b[49m\u001b[43m \u001b[49m\u001b[43mencode_chunked\u001b[49m\u001b[43m)\u001b[49m\n",
      "File \u001b[1;32m~\\Anaconda3\\lib\\http\\client.py:1331\u001b[0m, in \u001b[0;36mHTTPConnection._send_request\u001b[1;34m(self, method, url, body, headers, encode_chunked)\u001b[0m\n\u001b[0;32m   1330\u001b[0m     body \u001b[38;5;241m=\u001b[39m _encode(body, \u001b[38;5;124m'\u001b[39m\u001b[38;5;124mbody\u001b[39m\u001b[38;5;124m'\u001b[39m)\n\u001b[1;32m-> 1331\u001b[0m \u001b[38;5;28;43mself\u001b[39;49m\u001b[38;5;241;43m.\u001b[39;49m\u001b[43mendheaders\u001b[49m\u001b[43m(\u001b[49m\u001b[43mbody\u001b[49m\u001b[43m,\u001b[49m\u001b[43m \u001b[49m\u001b[43mencode_chunked\u001b[49m\u001b[38;5;241;43m=\u001b[39;49m\u001b[43mencode_chunked\u001b[49m\u001b[43m)\u001b[49m\n",
      "File \u001b[1;32m~\\Anaconda3\\lib\\http\\client.py:1280\u001b[0m, in \u001b[0;36mHTTPConnection.endheaders\u001b[1;34m(self, message_body, encode_chunked)\u001b[0m\n\u001b[0;32m   1279\u001b[0m     \u001b[38;5;28;01mraise\u001b[39;00m CannotSendHeader()\n\u001b[1;32m-> 1280\u001b[0m \u001b[38;5;28;43mself\u001b[39;49m\u001b[38;5;241;43m.\u001b[39;49m\u001b[43m_send_output\u001b[49m\u001b[43m(\u001b[49m\u001b[43mmessage_body\u001b[49m\u001b[43m,\u001b[49m\u001b[43m \u001b[49m\u001b[43mencode_chunked\u001b[49m\u001b[38;5;241;43m=\u001b[39;49m\u001b[43mencode_chunked\u001b[49m\u001b[43m)\u001b[49m\n",
      "File \u001b[1;32m~\\Anaconda3\\lib\\http\\client.py:1040\u001b[0m, in \u001b[0;36mHTTPConnection._send_output\u001b[1;34m(self, message_body, encode_chunked)\u001b[0m\n\u001b[0;32m   1039\u001b[0m \u001b[38;5;28;01mdel\u001b[39;00m \u001b[38;5;28mself\u001b[39m\u001b[38;5;241m.\u001b[39m_buffer[:]\n\u001b[1;32m-> 1040\u001b[0m \u001b[38;5;28;43mself\u001b[39;49m\u001b[38;5;241;43m.\u001b[39;49m\u001b[43msend\u001b[49m\u001b[43m(\u001b[49m\u001b[43mmsg\u001b[49m\u001b[43m)\u001b[49m\n\u001b[0;32m   1042\u001b[0m \u001b[38;5;28;01mif\u001b[39;00m message_body \u001b[38;5;129;01mis\u001b[39;00m \u001b[38;5;129;01mnot\u001b[39;00m \u001b[38;5;28;01mNone\u001b[39;00m:\n\u001b[0;32m   1043\u001b[0m \n\u001b[0;32m   1044\u001b[0m     \u001b[38;5;66;03m# create a consistent interface to message_body\u001b[39;00m\n",
      "File \u001b[1;32m~\\Anaconda3\\lib\\http\\client.py:980\u001b[0m, in \u001b[0;36mHTTPConnection.send\u001b[1;34m(self, data)\u001b[0m\n\u001b[0;32m    979\u001b[0m \u001b[38;5;28;01mif\u001b[39;00m \u001b[38;5;28mself\u001b[39m\u001b[38;5;241m.\u001b[39mauto_open:\n\u001b[1;32m--> 980\u001b[0m     \u001b[38;5;28;43mself\u001b[39;49m\u001b[38;5;241;43m.\u001b[39;49m\u001b[43mconnect\u001b[49m\u001b[43m(\u001b[49m\u001b[43m)\u001b[49m\n\u001b[0;32m    981\u001b[0m \u001b[38;5;28;01melse\u001b[39;00m:\n",
      "File \u001b[1;32m~\\Anaconda3\\lib\\http\\client.py:1454\u001b[0m, in \u001b[0;36mHTTPSConnection.connect\u001b[1;34m(self)\u001b[0m\n\u001b[0;32m   1452\u001b[0m     server_hostname \u001b[38;5;241m=\u001b[39m \u001b[38;5;28mself\u001b[39m\u001b[38;5;241m.\u001b[39mhost\n\u001b[1;32m-> 1454\u001b[0m \u001b[38;5;28mself\u001b[39m\u001b[38;5;241m.\u001b[39msock \u001b[38;5;241m=\u001b[39m \u001b[38;5;28;43mself\u001b[39;49m\u001b[38;5;241;43m.\u001b[39;49m\u001b[43m_context\u001b[49m\u001b[38;5;241;43m.\u001b[39;49m\u001b[43mwrap_socket\u001b[49m\u001b[43m(\u001b[49m\u001b[38;5;28;43mself\u001b[39;49m\u001b[38;5;241;43m.\u001b[39;49m\u001b[43msock\u001b[49m\u001b[43m,\u001b[49m\n\u001b[0;32m   1455\u001b[0m \u001b[43m                                      \u001b[49m\u001b[43mserver_hostname\u001b[49m\u001b[38;5;241;43m=\u001b[39;49m\u001b[43mserver_hostname\u001b[49m\u001b[43m)\u001b[49m\n",
      "File \u001b[1;32m~\\Anaconda3\\lib\\ssl.py:500\u001b[0m, in \u001b[0;36mSSLContext.wrap_socket\u001b[1;34m(self, sock, server_side, do_handshake_on_connect, suppress_ragged_eofs, server_hostname, session)\u001b[0m\n\u001b[0;32m    494\u001b[0m \u001b[38;5;28;01mdef\u001b[39;00m \u001b[38;5;21mwrap_socket\u001b[39m(\u001b[38;5;28mself\u001b[39m, sock, server_side\u001b[38;5;241m=\u001b[39m\u001b[38;5;28;01mFalse\u001b[39;00m,\n\u001b[0;32m    495\u001b[0m                 do_handshake_on_connect\u001b[38;5;241m=\u001b[39m\u001b[38;5;28;01mTrue\u001b[39;00m,\n\u001b[0;32m    496\u001b[0m                 suppress_ragged_eofs\u001b[38;5;241m=\u001b[39m\u001b[38;5;28;01mTrue\u001b[39;00m,\n\u001b[0;32m    497\u001b[0m                 server_hostname\u001b[38;5;241m=\u001b[39m\u001b[38;5;28;01mNone\u001b[39;00m, session\u001b[38;5;241m=\u001b[39m\u001b[38;5;28;01mNone\u001b[39;00m):\n\u001b[0;32m    498\u001b[0m     \u001b[38;5;66;03m# SSLSocket class handles server_hostname encoding before it calls\u001b[39;00m\n\u001b[0;32m    499\u001b[0m     \u001b[38;5;66;03m# ctx._wrap_socket()\u001b[39;00m\n\u001b[1;32m--> 500\u001b[0m     \u001b[38;5;28;01mreturn\u001b[39;00m \u001b[38;5;28;43mself\u001b[39;49m\u001b[38;5;241;43m.\u001b[39;49m\u001b[43msslsocket_class\u001b[49m\u001b[38;5;241;43m.\u001b[39;49m\u001b[43m_create\u001b[49m\u001b[43m(\u001b[49m\n\u001b[0;32m    501\u001b[0m \u001b[43m        \u001b[49m\u001b[43msock\u001b[49m\u001b[38;5;241;43m=\u001b[39;49m\u001b[43msock\u001b[49m\u001b[43m,\u001b[49m\n\u001b[0;32m    502\u001b[0m \u001b[43m        \u001b[49m\u001b[43mserver_side\u001b[49m\u001b[38;5;241;43m=\u001b[39;49m\u001b[43mserver_side\u001b[49m\u001b[43m,\u001b[49m\n\u001b[0;32m    503\u001b[0m \u001b[43m        \u001b[49m\u001b[43mdo_handshake_on_connect\u001b[49m\u001b[38;5;241;43m=\u001b[39;49m\u001b[43mdo_handshake_on_connect\u001b[49m\u001b[43m,\u001b[49m\n\u001b[0;32m    504\u001b[0m \u001b[43m        \u001b[49m\u001b[43msuppress_ragged_eofs\u001b[49m\u001b[38;5;241;43m=\u001b[39;49m\u001b[43msuppress_ragged_eofs\u001b[49m\u001b[43m,\u001b[49m\n\u001b[0;32m    505\u001b[0m \u001b[43m        \u001b[49m\u001b[43mserver_hostname\u001b[49m\u001b[38;5;241;43m=\u001b[39;49m\u001b[43mserver_hostname\u001b[49m\u001b[43m,\u001b[49m\n\u001b[0;32m    506\u001b[0m \u001b[43m        \u001b[49m\u001b[43mcontext\u001b[49m\u001b[38;5;241;43m=\u001b[39;49m\u001b[38;5;28;43mself\u001b[39;49m\u001b[43m,\u001b[49m\n\u001b[0;32m    507\u001b[0m \u001b[43m        \u001b[49m\u001b[43msession\u001b[49m\u001b[38;5;241;43m=\u001b[39;49m\u001b[43msession\u001b[49m\n\u001b[0;32m    508\u001b[0m \u001b[43m    \u001b[49m\u001b[43m)\u001b[49m\n",
      "File \u001b[1;32m~\\Anaconda3\\lib\\ssl.py:1040\u001b[0m, in \u001b[0;36mSSLSocket._create\u001b[1;34m(cls, sock, server_side, do_handshake_on_connect, suppress_ragged_eofs, server_hostname, context, session)\u001b[0m\n\u001b[0;32m   1039\u001b[0m             \u001b[38;5;28;01mraise\u001b[39;00m \u001b[38;5;167;01mValueError\u001b[39;00m(\u001b[38;5;124m\"\u001b[39m\u001b[38;5;124mdo_handshake_on_connect should not be specified for non-blocking sockets\u001b[39m\u001b[38;5;124m\"\u001b[39m)\n\u001b[1;32m-> 1040\u001b[0m         \u001b[38;5;28;43mself\u001b[39;49m\u001b[38;5;241;43m.\u001b[39;49m\u001b[43mdo_handshake\u001b[49m\u001b[43m(\u001b[49m\u001b[43m)\u001b[49m\n\u001b[0;32m   1041\u001b[0m \u001b[38;5;28;01mexcept\u001b[39;00m (\u001b[38;5;167;01mOSError\u001b[39;00m, \u001b[38;5;167;01mValueError\u001b[39;00m):\n",
      "File \u001b[1;32m~\\Anaconda3\\lib\\ssl.py:1309\u001b[0m, in \u001b[0;36mSSLSocket.do_handshake\u001b[1;34m(self, block)\u001b[0m\n\u001b[0;32m   1308\u001b[0m         \u001b[38;5;28mself\u001b[39m\u001b[38;5;241m.\u001b[39msettimeout(\u001b[38;5;28;01mNone\u001b[39;00m)\n\u001b[1;32m-> 1309\u001b[0m     \u001b[38;5;28;43mself\u001b[39;49m\u001b[38;5;241;43m.\u001b[39;49m\u001b[43m_sslobj\u001b[49m\u001b[38;5;241;43m.\u001b[39;49m\u001b[43mdo_handshake\u001b[49m\u001b[43m(\u001b[49m\u001b[43m)\u001b[49m\n\u001b[0;32m   1310\u001b[0m \u001b[38;5;28;01mfinally\u001b[39;00m:\n",
      "\u001b[1;31mSSLEOFError\u001b[0m: EOF occurred in violation of protocol (_ssl.c:1129)",
      "\nDuring handling of the above exception, another exception occurred:\n",
      "\u001b[1;31mURLError\u001b[0m                                  Traceback (most recent call last)",
      "Input \u001b[1;32mIn [371]\u001b[0m, in \u001b[0;36m<cell line: 9>\u001b[1;34m()\u001b[0m\n\u001b[0;32m     14\u001b[0m req\u001b[38;5;241m.\u001b[39madd_header(\u001b[38;5;124m'\u001b[39m\u001b[38;5;124muser-agent\u001b[39m\u001b[38;5;124m'\u001b[39m, \u001b[38;5;124m'\u001b[39m\u001b[38;5;124mMozilla/5.0 (Windows NT 10.0; Win64; x64) AppleWebKit/537.36 (KHTML, like Gecko) Chrome/113.0.0.0 Safari/537.36 Edg/113.0.1774.57\u001b[39m\u001b[38;5;124m'\u001b[39m)\n\u001b[0;32m     16\u001b[0m \u001b[38;5;66;03m## Write html to r\u001b[39;00m\n\u001b[1;32m---> 17\u001b[0m r \u001b[38;5;241m=\u001b[39m \u001b[43murllib\u001b[49m\u001b[38;5;241;43m.\u001b[39;49m\u001b[43mrequest\u001b[49m\u001b[38;5;241;43m.\u001b[39;49m\u001b[43murlopen\u001b[49m\u001b[43m(\u001b[49m\u001b[43mreq\u001b[49m\u001b[43m,\u001b[49m\u001b[43m \u001b[49m\u001b[43mcontext\u001b[49m\u001b[38;5;241;43m=\u001b[39;49m\u001b[43mctx\u001b[49m\u001b[43m)\u001b[49m\u001b[38;5;241m.\u001b[39mread()\u001b[38;5;241m.\u001b[39mdecode(\u001b[38;5;124m'\u001b[39m\u001b[38;5;124mutf-8\u001b[39m\u001b[38;5;124m'\u001b[39m)\n\u001b[0;32m     18\u001b[0m \u001b[38;5;28;01mwith\u001b[39;00m \u001b[38;5;28mopen\u001b[39m(\u001b[38;5;124m\"\u001b[39m\u001b[38;5;124mtest.html\u001b[39m\u001b[38;5;124m\"\u001b[39m, \u001b[38;5;124m'\u001b[39m\u001b[38;5;124mw\u001b[39m\u001b[38;5;124m'\u001b[39m, encoding\u001b[38;5;241m=\u001b[39m\u001b[38;5;124m\"\u001b[39m\u001b[38;5;124mutf-8\u001b[39m\u001b[38;5;124m\"\u001b[39m) \u001b[38;5;28;01mas\u001b[39;00m f:\n\u001b[0;32m     19\u001b[0m     f\u001b[38;5;241m.\u001b[39mwrite(r)\n",
      "File \u001b[1;32m~\\Anaconda3\\lib\\urllib\\request.py:214\u001b[0m, in \u001b[0;36murlopen\u001b[1;34m(url, data, timeout, cafile, capath, cadefault, context)\u001b[0m\n\u001b[0;32m    212\u001b[0m \u001b[38;5;28;01melse\u001b[39;00m:\n\u001b[0;32m    213\u001b[0m     opener \u001b[38;5;241m=\u001b[39m _opener\n\u001b[1;32m--> 214\u001b[0m \u001b[38;5;28;01mreturn\u001b[39;00m \u001b[43mopener\u001b[49m\u001b[38;5;241;43m.\u001b[39;49m\u001b[43mopen\u001b[49m\u001b[43m(\u001b[49m\u001b[43murl\u001b[49m\u001b[43m,\u001b[49m\u001b[43m \u001b[49m\u001b[43mdata\u001b[49m\u001b[43m,\u001b[49m\u001b[43m \u001b[49m\u001b[43mtimeout\u001b[49m\u001b[43m)\u001b[49m\n",
      "File \u001b[1;32m~\\Anaconda3\\lib\\urllib\\request.py:517\u001b[0m, in \u001b[0;36mOpenerDirector.open\u001b[1;34m(self, fullurl, data, timeout)\u001b[0m\n\u001b[0;32m    514\u001b[0m     req \u001b[38;5;241m=\u001b[39m meth(req)\n\u001b[0;32m    516\u001b[0m sys\u001b[38;5;241m.\u001b[39maudit(\u001b[38;5;124m'\u001b[39m\u001b[38;5;124murllib.Request\u001b[39m\u001b[38;5;124m'\u001b[39m, req\u001b[38;5;241m.\u001b[39mfull_url, req\u001b[38;5;241m.\u001b[39mdata, req\u001b[38;5;241m.\u001b[39mheaders, req\u001b[38;5;241m.\u001b[39mget_method())\n\u001b[1;32m--> 517\u001b[0m response \u001b[38;5;241m=\u001b[39m \u001b[38;5;28;43mself\u001b[39;49m\u001b[38;5;241;43m.\u001b[39;49m\u001b[43m_open\u001b[49m\u001b[43m(\u001b[49m\u001b[43mreq\u001b[49m\u001b[43m,\u001b[49m\u001b[43m \u001b[49m\u001b[43mdata\u001b[49m\u001b[43m)\u001b[49m\n\u001b[0;32m    519\u001b[0m \u001b[38;5;66;03m# post-process response\u001b[39;00m\n\u001b[0;32m    520\u001b[0m meth_name \u001b[38;5;241m=\u001b[39m protocol\u001b[38;5;241m+\u001b[39m\u001b[38;5;124m\"\u001b[39m\u001b[38;5;124m_response\u001b[39m\u001b[38;5;124m\"\u001b[39m\n",
      "File \u001b[1;32m~\\Anaconda3\\lib\\urllib\\request.py:534\u001b[0m, in \u001b[0;36mOpenerDirector._open\u001b[1;34m(self, req, data)\u001b[0m\n\u001b[0;32m    531\u001b[0m     \u001b[38;5;28;01mreturn\u001b[39;00m result\n\u001b[0;32m    533\u001b[0m protocol \u001b[38;5;241m=\u001b[39m req\u001b[38;5;241m.\u001b[39mtype\n\u001b[1;32m--> 534\u001b[0m result \u001b[38;5;241m=\u001b[39m \u001b[38;5;28;43mself\u001b[39;49m\u001b[38;5;241;43m.\u001b[39;49m\u001b[43m_call_chain\u001b[49m\u001b[43m(\u001b[49m\u001b[38;5;28;43mself\u001b[39;49m\u001b[38;5;241;43m.\u001b[39;49m\u001b[43mhandle_open\u001b[49m\u001b[43m,\u001b[49m\u001b[43m \u001b[49m\u001b[43mprotocol\u001b[49m\u001b[43m,\u001b[49m\u001b[43m \u001b[49m\u001b[43mprotocol\u001b[49m\u001b[43m \u001b[49m\u001b[38;5;241;43m+\u001b[39;49m\n\u001b[0;32m    535\u001b[0m \u001b[43m                          \u001b[49m\u001b[38;5;124;43m'\u001b[39;49m\u001b[38;5;124;43m_open\u001b[39;49m\u001b[38;5;124;43m'\u001b[39;49m\u001b[43m,\u001b[49m\u001b[43m \u001b[49m\u001b[43mreq\u001b[49m\u001b[43m)\u001b[49m\n\u001b[0;32m    536\u001b[0m \u001b[38;5;28;01mif\u001b[39;00m result:\n\u001b[0;32m    537\u001b[0m     \u001b[38;5;28;01mreturn\u001b[39;00m result\n",
      "File \u001b[1;32m~\\Anaconda3\\lib\\urllib\\request.py:494\u001b[0m, in \u001b[0;36mOpenerDirector._call_chain\u001b[1;34m(self, chain, kind, meth_name, *args)\u001b[0m\n\u001b[0;32m    492\u001b[0m \u001b[38;5;28;01mfor\u001b[39;00m handler \u001b[38;5;129;01min\u001b[39;00m handlers:\n\u001b[0;32m    493\u001b[0m     func \u001b[38;5;241m=\u001b[39m \u001b[38;5;28mgetattr\u001b[39m(handler, meth_name)\n\u001b[1;32m--> 494\u001b[0m     result \u001b[38;5;241m=\u001b[39m \u001b[43mfunc\u001b[49m\u001b[43m(\u001b[49m\u001b[38;5;241;43m*\u001b[39;49m\u001b[43margs\u001b[49m\u001b[43m)\u001b[49m\n\u001b[0;32m    495\u001b[0m     \u001b[38;5;28;01mif\u001b[39;00m result \u001b[38;5;129;01mis\u001b[39;00m \u001b[38;5;129;01mnot\u001b[39;00m \u001b[38;5;28;01mNone\u001b[39;00m:\n\u001b[0;32m    496\u001b[0m         \u001b[38;5;28;01mreturn\u001b[39;00m result\n",
      "File \u001b[1;32m~\\Anaconda3\\lib\\urllib\\request.py:1389\u001b[0m, in \u001b[0;36mHTTPSHandler.https_open\u001b[1;34m(self, req)\u001b[0m\n\u001b[0;32m   1388\u001b[0m \u001b[38;5;28;01mdef\u001b[39;00m \u001b[38;5;21mhttps_open\u001b[39m(\u001b[38;5;28mself\u001b[39m, req):\n\u001b[1;32m-> 1389\u001b[0m     \u001b[38;5;28;01mreturn\u001b[39;00m \u001b[38;5;28;43mself\u001b[39;49m\u001b[38;5;241;43m.\u001b[39;49m\u001b[43mdo_open\u001b[49m\u001b[43m(\u001b[49m\u001b[43mhttp\u001b[49m\u001b[38;5;241;43m.\u001b[39;49m\u001b[43mclient\u001b[49m\u001b[38;5;241;43m.\u001b[39;49m\u001b[43mHTTPSConnection\u001b[49m\u001b[43m,\u001b[49m\u001b[43m \u001b[49m\u001b[43mreq\u001b[49m\u001b[43m,\u001b[49m\n\u001b[0;32m   1390\u001b[0m \u001b[43m        \u001b[49m\u001b[43mcontext\u001b[49m\u001b[38;5;241;43m=\u001b[39;49m\u001b[38;5;28;43mself\u001b[39;49m\u001b[38;5;241;43m.\u001b[39;49m\u001b[43m_context\u001b[49m\u001b[43m,\u001b[49m\u001b[43m \u001b[49m\u001b[43mcheck_hostname\u001b[49m\u001b[38;5;241;43m=\u001b[39;49m\u001b[38;5;28;43mself\u001b[39;49m\u001b[38;5;241;43m.\u001b[39;49m\u001b[43m_check_hostname\u001b[49m\u001b[43m)\u001b[49m\n",
      "File \u001b[1;32m~\\Anaconda3\\lib\\urllib\\request.py:1349\u001b[0m, in \u001b[0;36mAbstractHTTPHandler.do_open\u001b[1;34m(self, http_class, req, **http_conn_args)\u001b[0m\n\u001b[0;32m   1346\u001b[0m         h\u001b[38;5;241m.\u001b[39mrequest(req\u001b[38;5;241m.\u001b[39mget_method(), req\u001b[38;5;241m.\u001b[39mselector, req\u001b[38;5;241m.\u001b[39mdata, headers,\n\u001b[0;32m   1347\u001b[0m                   encode_chunked\u001b[38;5;241m=\u001b[39mreq\u001b[38;5;241m.\u001b[39mhas_header(\u001b[38;5;124m'\u001b[39m\u001b[38;5;124mTransfer-encoding\u001b[39m\u001b[38;5;124m'\u001b[39m))\n\u001b[0;32m   1348\u001b[0m     \u001b[38;5;28;01mexcept\u001b[39;00m \u001b[38;5;167;01mOSError\u001b[39;00m \u001b[38;5;28;01mas\u001b[39;00m err: \u001b[38;5;66;03m# timeout error\u001b[39;00m\n\u001b[1;32m-> 1349\u001b[0m         \u001b[38;5;28;01mraise\u001b[39;00m URLError(err)\n\u001b[0;32m   1350\u001b[0m     r \u001b[38;5;241m=\u001b[39m h\u001b[38;5;241m.\u001b[39mgetresponse()\n\u001b[0;32m   1351\u001b[0m \u001b[38;5;28;01mexcept\u001b[39;00m:\n",
      "\u001b[1;31mURLError\u001b[0m: <urlopen error EOF occurred in violation of protocol (_ssl.c:1129)>"
     ]
    }
   ],
   "source": [
    "#Ignore SSL since some sites aren't https\n",
    "ctx = ssl.create_default_context()\n",
    "ctx.check_hostname = False\n",
    "ctx.verify_mode = ssl.CERT_NONE\n",
    "\n",
    "\n",
    "## Read in the html\n",
    "addresses=[]\n",
    "for url in urls[1:84]:\n",
    "    \n",
    "    try:\n",
    "        ## URLlib paramters, the user-agent header may need to be updated by looking at network in dev tools on website\n",
    "        req = urllib.request.Request(url)\n",
    "        req.add_header('user-agent', 'Mozilla/5.0 (Windows NT 10.0; Win64; x64) AppleWebKit/537.36 (KHTML, like Gecko) Chrome/113.0.0.0 Safari/537.36 Edg/113.0.1774.57')\n",
    "\n",
    "        ## Write html to r\n",
    "        r = urllib.request.urlopen(req, context=ctx).read().decode('utf-8')\n",
    "        with open(\"test.html\", 'w', encoding=\"utf-8\") as f:\n",
    "            f.write(r)\n",
    "\n",
    "        ## Have beautfil soup run it's html parsing magic\n",
    "        soup = bs(r, 'html.parser')\n",
    "\n",
    "        ## Here's the pattern to just find what tag contains a city like string\n",
    "        pattern = re.compile('[A-z]+,\\s[A-Z]{2}\\s\\d{5}(?!\\d)')\n",
    "\n",
    "\n",
    "        # For each string in a tag that gets returned look for a full street address within the string and append to addresses\n",
    "        for tag in soup.find_all(string=re.compile(pattern)):\n",
    "            match = re.search('\\d{1,5}\\s(?:[A-z\\S]*\\s){1,3}(?:Avenue|Lane|Road|Boulevard|Drive|Floor|Street|Ave|Dr|Rd|Blvd|Ln|St|Suite).*\\d{5}',\n",
    "                              tag.parent.get_text().replace('\\n', ' ').replace(\"\\xa0\", ' '))\n",
    "            if match:\n",
    "                print(tag,match.group(0))\n",
    "                addresses.append([url, match.group(0)])\n",
    "            else:\n",
    "                pass\n",
    "            \n",
    "            \n",
    "    except urllib.error.HTTPError as err:\n",
    "        print(url, err.code)\n"
   ]
  },
  {
   "cell_type": "markdown",
   "id": "c4ea0eea",
   "metadata": {},
   "source": [
    "## Troubleshooting edge cases"
   ]
  },
  {
   "cell_type": "markdown",
   "id": "c7e4413f",
   "metadata": {},
   "source": [
    "### AGL LLP\n",
    "- Needed to use urllib because of security defenses on this website"
   ]
  },
  {
   "cell_type": "code",
   "execution_count": 303,
   "id": "ee60ed1c",
   "metadata": {},
   "outputs": [],
   "source": [
    "import urllib\n",
    "import ssl"
   ]
  },
  {
   "cell_type": "code",
   "execution_count": 317,
   "id": "819b7781",
   "metadata": {},
   "outputs": [],
   "source": [
    "ctx = ssl.create_default_context()\n",
    "ctx.check_hostname = False\n",
    "ctx.verify_mode = ssl.CERT_NONE\n",
    "\n",
    "req = urllib.request.Request('http://www.acuitycpas.com/contact')\n",
    "req.add_header('user-agent', 'Mozilla/5.0 (Windows NT 10.0; Win64; x64) AppleWebKit/537.36 (KHTML, like Gecko) Chrome/113.0.0.0 Safari/537.36 Edg/113.0.1774.57')\n",
    "\n",
    "r = urllib.request.urlopen(req, context=ctx).read().decode('utf-8')\n",
    "with open(\"test.html\", 'w', encoding=\"utf-8\") as f:\n",
    "    f.write(r)\n",
    "    \n",
    "soup = bs(r, 'html.parser')\n",
    "\n"
   ]
  },
  {
   "cell_type": "code",
   "execution_count": 295,
   "id": "b96577c4",
   "metadata": {},
   "outputs": [
    {
     "data": {
      "text/plain": [
       "'AAFCPAs Westborough 50 Washington Street Westborough, MA 01581'"
      ]
     },
     "execution_count": 295,
     "metadata": {},
     "output_type": "execute_result"
    }
   ],
   "source": [
    "tag.parent.get_text().replace('\\n', ' ').replace(\"\\xa0\", ' ')"
   ]
  },
  {
   "cell_type": "code",
   "execution_count": 306,
   "id": "addcb44d",
   "metadata": {},
   "outputs": [
    {
     "data": {
      "text/plain": [
       "'2425 N Central Expressway, Suite 200 Richardson, TX 75080'"
      ]
     },
     "execution_count": 306,
     "metadata": {},
     "output_type": "execute_result"
    }
   ],
   "source": [
    "match.group(0)"
   ]
  },
  {
   "cell_type": "markdown",
   "id": "9ac9b1d7",
   "metadata": {},
   "source": [
    "###  adamsbrowncpa.com\n",
    "This url doesn't actually have locations on contact page, just a contact form. there is a different url that has locations. But still not sure why I'm getting a 404 error in my loop but not here"
   ]
  },
  {
   "cell_type": "code",
   "execution_count": 347,
   "id": "19e5f91f",
   "metadata": {
    "scrolled": true
   },
   "outputs": [],
   "source": [
    "req = urllib.request.Request('https://www.adamsbrowncpa.com/contact/')\n",
    "req.add_header('user-agent', 'Mozilla/5.0 (Windows NT 10.0; Win64; x64) AppleWebKit/537.36 (KHTML, like Gecko) Chrome/113.0.0.0 Safari/537.36 Edg/113.0.1774.57')"
   ]
  },
  {
   "cell_type": "code",
   "execution_count": 348,
   "id": "e18b85c6",
   "metadata": {},
   "outputs": [
    {
     "name": "stdout",
     "output_type": "stream",
     "text": [
      "try\n"
     ]
    }
   ],
   "source": [
    "ctx = ssl.create_default_context()\n",
    "ctx.check_hostname = False\n",
    "ctx.verify_mode = ssl.CERT_NONE\n",
    "\n",
    "try:\n",
    "    urllib.request.urlopen(req, context=ctx)\n",
    "    print('try')\n",
    "except urllib.error.HTTPError as err:\n",
    "    print(err.code)\n",
    "    print('except')"
   ]
  },
  {
   "cell_type": "markdown",
   "id": "9ac057d7",
   "metadata": {},
   "source": [
    "### Line breaks"
   ]
  },
  {
   "cell_type": "code",
   "execution_count": 357,
   "id": "9e4bca61",
   "metadata": {},
   "outputs": [],
   "source": [
    "addresses = pd.Series(addresses)"
   ]
  },
  {
   "cell_type": "code",
   "execution_count": 370,
   "id": "b1572697",
   "metadata": {
    "scrolled": true
   },
   "outputs": [
    {
     "name": "stdout",
     "output_type": "stream",
     "text": [
      "1885 St. James Place, Suite 1050 Houston, TX 77056\n",
      "280 Fore Street                                                                                                 Portland, ME 04101\n",
      "133 Federal Street                                                                                                     Suite 902                                                                                                 Boston, MA 02110\n",
      "75 Portsmouth Boulevard                                                                                                     Suite 130                                                                                                 Portsmouth, NH 03801\n",
      "650 Elm Street                                                                                                     Suite 302                                                                                                 Manchester, NH 03101\n",
      "600 Unicorn Park Drive                                                                                                     2nd floor                                                                                                 Woburn, MA 01801\n"
     ]
    }
   ],
   "source": [
    "for addy in addresses[80:]:\n",
    "    print(addy[1])"
   ]
  },
  {
   "cell_type": "markdown",
   "id": "a0aaa4a4",
   "metadata": {},
   "source": [
    "### Still need to fix"
   ]
  },
  {
   "cell_type": "markdown",
   "id": "8a2d0a79",
   "metadata": {},
   "source": [
    "1. There are massive line breaks between street name and city in addresses[80:84] \n",
    "2. There are \\r text chars in some addresses, need to replace\n",
    "3. If 404/403 returned modify url to 'contact-us'\n",
    "4. URLError: <urlopen error EOF occurred in violation of protocol (_ssl.c:1129)>"
   ]
  },
  {
   "cell_type": "code",
   "execution_count": null,
   "id": "162fe3d3",
   "metadata": {},
   "outputs": [],
   "source": []
  },
  {
   "cell_type": "code",
   "execution_count": null,
   "id": "b48a29d0",
   "metadata": {},
   "outputs": [],
   "source": []
  },
  {
   "cell_type": "code",
   "execution_count": null,
   "id": "9907b24d",
   "metadata": {},
   "outputs": [],
   "source": []
  },
  {
   "cell_type": "code",
   "execution_count": null,
   "id": "5845711a",
   "metadata": {},
   "outputs": [],
   "source": []
  },
  {
   "cell_type": "code",
   "execution_count": null,
   "id": "2e8ae301",
   "metadata": {},
   "outputs": [],
   "source": []
  },
  {
   "cell_type": "code",
   "execution_count": null,
   "id": "503fb3af",
   "metadata": {},
   "outputs": [],
   "source": []
  },
  {
   "cell_type": "code",
   "execution_count": null,
   "id": "73e1c7c9",
   "metadata": {},
   "outputs": [],
   "source": []
  }
 ],
 "metadata": {
  "kernelspec": {
   "display_name": "Python 3 (ipykernel)",
   "language": "python",
   "name": "python3"
  },
  "language_info": {
   "codemirror_mode": {
    "name": "ipython",
    "version": 3
   },
   "file_extension": ".py",
   "mimetype": "text/x-python",
   "name": "python",
   "nbconvert_exporter": "python",
   "pygments_lexer": "ipython3",
   "version": "3.9.12"
  },
  "toc": {
   "base_numbering": 1,
   "nav_menu": {},
   "number_sections": true,
   "sideBar": true,
   "skip_h1_title": false,
   "title_cell": "Table of Contents",
   "title_sidebar": "Contents",
   "toc_cell": false,
   "toc_position": {},
   "toc_section_display": true,
   "toc_window_display": false
  }
 },
 "nbformat": 4,
 "nbformat_minor": 5
}
